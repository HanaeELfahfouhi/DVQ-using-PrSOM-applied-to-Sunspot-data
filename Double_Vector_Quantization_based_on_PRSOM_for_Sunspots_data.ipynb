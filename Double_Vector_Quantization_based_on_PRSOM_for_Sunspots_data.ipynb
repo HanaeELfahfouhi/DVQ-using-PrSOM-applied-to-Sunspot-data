{
  "cells": [
    {
      "cell_type": "markdown",
      "metadata": {
        "id": "FwPshuqvT29W"
      },
      "source": [
        "**Importe Packages**"
      ]
    },
    {
      "cell_type": "code",
      "execution_count": 13,
      "metadata": {
        "id": "1iilLF0XKOYf"
      },
      "outputs": [],
      "source": [
        "import numpy as np\n",
        "import pandas as pd\n",
        "from scipy.stats import multivariate_normal\n",
        "from sklearn.base import BaseEstimator, RegressorMixin\n",
        "import matplotlib.pyplot as plt\n",
        "from scipy.stats import norm\n",
        "from scipy.spatial import distance\n",
        "from datetime import datetime\n",
        "from sklearn.preprocessing import MinMaxScaler\n",
        "from sklearn import datasets\n",
        "import random\n",
        "from sklearn.metrics import mean_squared_error, mean_absolute_error, r2_score"
      ]
    },
    {
      "cell_type": "markdown",
      "metadata": {
        "id": "zGSwsEcHUYvK"
      },
      "source": [
        "**Importe Sunspots Time series**"
      ]
    },
    {
      "cell_type": "code",
      "execution_count": 14,
      "metadata": {
        "colab": {
          "base_uri": "https://localhost:8080/",
          "height": 423
        },
        "id": "PXw2ZMpkEFjA",
        "outputId": "53d477d9-fae0-4b4c-ded4-60ac7f1d5736"
      },
      "outputs": [
        {
          "output_type": "execute_result",
          "data": {
            "text/plain": [
              "      Unnamed: 0        Date  Monthly Mean Total Sunspot Number\n",
              "0              0  1749-01-31                               96.7\n",
              "1              1  1749-02-28                              104.3\n",
              "2              2  1749-03-31                              116.7\n",
              "3              3  1749-04-30                               92.8\n",
              "4              4  1749-05-31                              141.7\n",
              "...          ...         ...                                ...\n",
              "3260        3260  2020-09-30                                0.6\n",
              "3261        3261  2020-10-31                               14.4\n",
              "3262        3262  2020-11-30                               34.0\n",
              "3263        3263  2020-12-31                               21.8\n",
              "3264        3264  2021-01-31                               10.4\n",
              "\n",
              "[3265 rows x 3 columns]"
            ],
            "text/html": [
              "\n",
              "  <div id=\"df-f3ed2092-6b8f-4a2d-899d-c7cf0301001f\" class=\"colab-df-container\">\n",
              "    <div>\n",
              "<style scoped>\n",
              "    .dataframe tbody tr th:only-of-type {\n",
              "        vertical-align: middle;\n",
              "    }\n",
              "\n",
              "    .dataframe tbody tr th {\n",
              "        vertical-align: top;\n",
              "    }\n",
              "\n",
              "    .dataframe thead th {\n",
              "        text-align: right;\n",
              "    }\n",
              "</style>\n",
              "<table border=\"1\" class=\"dataframe\">\n",
              "  <thead>\n",
              "    <tr style=\"text-align: right;\">\n",
              "      <th></th>\n",
              "      <th>Unnamed: 0</th>\n",
              "      <th>Date</th>\n",
              "      <th>Monthly Mean Total Sunspot Number</th>\n",
              "    </tr>\n",
              "  </thead>\n",
              "  <tbody>\n",
              "    <tr>\n",
              "      <th>0</th>\n",
              "      <td>0</td>\n",
              "      <td>1749-01-31</td>\n",
              "      <td>96.7</td>\n",
              "    </tr>\n",
              "    <tr>\n",
              "      <th>1</th>\n",
              "      <td>1</td>\n",
              "      <td>1749-02-28</td>\n",
              "      <td>104.3</td>\n",
              "    </tr>\n",
              "    <tr>\n",
              "      <th>2</th>\n",
              "      <td>2</td>\n",
              "      <td>1749-03-31</td>\n",
              "      <td>116.7</td>\n",
              "    </tr>\n",
              "    <tr>\n",
              "      <th>3</th>\n",
              "      <td>3</td>\n",
              "      <td>1749-04-30</td>\n",
              "      <td>92.8</td>\n",
              "    </tr>\n",
              "    <tr>\n",
              "      <th>4</th>\n",
              "      <td>4</td>\n",
              "      <td>1749-05-31</td>\n",
              "      <td>141.7</td>\n",
              "    </tr>\n",
              "    <tr>\n",
              "      <th>...</th>\n",
              "      <td>...</td>\n",
              "      <td>...</td>\n",
              "      <td>...</td>\n",
              "    </tr>\n",
              "    <tr>\n",
              "      <th>3260</th>\n",
              "      <td>3260</td>\n",
              "      <td>2020-09-30</td>\n",
              "      <td>0.6</td>\n",
              "    </tr>\n",
              "    <tr>\n",
              "      <th>3261</th>\n",
              "      <td>3261</td>\n",
              "      <td>2020-10-31</td>\n",
              "      <td>14.4</td>\n",
              "    </tr>\n",
              "    <tr>\n",
              "      <th>3262</th>\n",
              "      <td>3262</td>\n",
              "      <td>2020-11-30</td>\n",
              "      <td>34.0</td>\n",
              "    </tr>\n",
              "    <tr>\n",
              "      <th>3263</th>\n",
              "      <td>3263</td>\n",
              "      <td>2020-12-31</td>\n",
              "      <td>21.8</td>\n",
              "    </tr>\n",
              "    <tr>\n",
              "      <th>3264</th>\n",
              "      <td>3264</td>\n",
              "      <td>2021-01-31</td>\n",
              "      <td>10.4</td>\n",
              "    </tr>\n",
              "  </tbody>\n",
              "</table>\n",
              "<p>3265 rows × 3 columns</p>\n",
              "</div>\n",
              "    <div class=\"colab-df-buttons\">\n",
              "\n",
              "  <div class=\"colab-df-container\">\n",
              "    <button class=\"colab-df-convert\" onclick=\"convertToInteractive('df-f3ed2092-6b8f-4a2d-899d-c7cf0301001f')\"\n",
              "            title=\"Convert this dataframe to an interactive table.\"\n",
              "            style=\"display:none;\">\n",
              "\n",
              "  <svg xmlns=\"http://www.w3.org/2000/svg\" height=\"24px\" viewBox=\"0 -960 960 960\">\n",
              "    <path d=\"M120-120v-720h720v720H120Zm60-500h600v-160H180v160Zm220 220h160v-160H400v160Zm0 220h160v-160H400v160ZM180-400h160v-160H180v160Zm440 0h160v-160H620v160ZM180-180h160v-160H180v160Zm440 0h160v-160H620v160Z\"/>\n",
              "  </svg>\n",
              "    </button>\n",
              "\n",
              "  <style>\n",
              "    .colab-df-container {\n",
              "      display:flex;\n",
              "      gap: 12px;\n",
              "    }\n",
              "\n",
              "    .colab-df-convert {\n",
              "      background-color: #E8F0FE;\n",
              "      border: none;\n",
              "      border-radius: 50%;\n",
              "      cursor: pointer;\n",
              "      display: none;\n",
              "      fill: #1967D2;\n",
              "      height: 32px;\n",
              "      padding: 0 0 0 0;\n",
              "      width: 32px;\n",
              "    }\n",
              "\n",
              "    .colab-df-convert:hover {\n",
              "      background-color: #E2EBFA;\n",
              "      box-shadow: 0px 1px 2px rgba(60, 64, 67, 0.3), 0px 1px 3px 1px rgba(60, 64, 67, 0.15);\n",
              "      fill: #174EA6;\n",
              "    }\n",
              "\n",
              "    .colab-df-buttons div {\n",
              "      margin-bottom: 4px;\n",
              "    }\n",
              "\n",
              "    [theme=dark] .colab-df-convert {\n",
              "      background-color: #3B4455;\n",
              "      fill: #D2E3FC;\n",
              "    }\n",
              "\n",
              "    [theme=dark] .colab-df-convert:hover {\n",
              "      background-color: #434B5C;\n",
              "      box-shadow: 0px 1px 3px 1px rgba(0, 0, 0, 0.15);\n",
              "      filter: drop-shadow(0px 1px 2px rgba(0, 0, 0, 0.3));\n",
              "      fill: #FFFFFF;\n",
              "    }\n",
              "  </style>\n",
              "\n",
              "    <script>\n",
              "      const buttonEl =\n",
              "        document.querySelector('#df-f3ed2092-6b8f-4a2d-899d-c7cf0301001f button.colab-df-convert');\n",
              "      buttonEl.style.display =\n",
              "        google.colab.kernel.accessAllowed ? 'block' : 'none';\n",
              "\n",
              "      async function convertToInteractive(key) {\n",
              "        const element = document.querySelector('#df-f3ed2092-6b8f-4a2d-899d-c7cf0301001f');\n",
              "        const dataTable =\n",
              "          await google.colab.kernel.invokeFunction('convertToInteractive',\n",
              "                                                    [key], {});\n",
              "        if (!dataTable) return;\n",
              "\n",
              "        const docLinkHtml = 'Like what you see? Visit the ' +\n",
              "          '<a target=\"_blank\" href=https://colab.research.google.com/notebooks/data_table.ipynb>data table notebook</a>'\n",
              "          + ' to learn more about interactive tables.';\n",
              "        element.innerHTML = '';\n",
              "        dataTable['output_type'] = 'display_data';\n",
              "        await google.colab.output.renderOutput(dataTable, element);\n",
              "        const docLink = document.createElement('div');\n",
              "        docLink.innerHTML = docLinkHtml;\n",
              "        element.appendChild(docLink);\n",
              "      }\n",
              "    </script>\n",
              "  </div>\n",
              "\n",
              "\n",
              "    <div id=\"df-90b82761-df4c-4a8f-a430-96bf2e697bc2\">\n",
              "      <button class=\"colab-df-quickchart\" onclick=\"quickchart('df-90b82761-df4c-4a8f-a430-96bf2e697bc2')\"\n",
              "                title=\"Suggest charts\"\n",
              "                style=\"display:none;\">\n",
              "\n",
              "<svg xmlns=\"http://www.w3.org/2000/svg\" height=\"24px\"viewBox=\"0 0 24 24\"\n",
              "     width=\"24px\">\n",
              "    <g>\n",
              "        <path d=\"M19 3H5c-1.1 0-2 .9-2 2v14c0 1.1.9 2 2 2h14c1.1 0 2-.9 2-2V5c0-1.1-.9-2-2-2zM9 17H7v-7h2v7zm4 0h-2V7h2v10zm4 0h-2v-4h2v4z\"/>\n",
              "    </g>\n",
              "</svg>\n",
              "      </button>\n",
              "\n",
              "<style>\n",
              "  .colab-df-quickchart {\n",
              "      --bg-color: #E8F0FE;\n",
              "      --fill-color: #1967D2;\n",
              "      --hover-bg-color: #E2EBFA;\n",
              "      --hover-fill-color: #174EA6;\n",
              "      --disabled-fill-color: #AAA;\n",
              "      --disabled-bg-color: #DDD;\n",
              "  }\n",
              "\n",
              "  [theme=dark] .colab-df-quickchart {\n",
              "      --bg-color: #3B4455;\n",
              "      --fill-color: #D2E3FC;\n",
              "      --hover-bg-color: #434B5C;\n",
              "      --hover-fill-color: #FFFFFF;\n",
              "      --disabled-bg-color: #3B4455;\n",
              "      --disabled-fill-color: #666;\n",
              "  }\n",
              "\n",
              "  .colab-df-quickchart {\n",
              "    background-color: var(--bg-color);\n",
              "    border: none;\n",
              "    border-radius: 50%;\n",
              "    cursor: pointer;\n",
              "    display: none;\n",
              "    fill: var(--fill-color);\n",
              "    height: 32px;\n",
              "    padding: 0;\n",
              "    width: 32px;\n",
              "  }\n",
              "\n",
              "  .colab-df-quickchart:hover {\n",
              "    background-color: var(--hover-bg-color);\n",
              "    box-shadow: 0 1px 2px rgba(60, 64, 67, 0.3), 0 1px 3px 1px rgba(60, 64, 67, 0.15);\n",
              "    fill: var(--button-hover-fill-color);\n",
              "  }\n",
              "\n",
              "  .colab-df-quickchart-complete:disabled,\n",
              "  .colab-df-quickchart-complete:disabled:hover {\n",
              "    background-color: var(--disabled-bg-color);\n",
              "    fill: var(--disabled-fill-color);\n",
              "    box-shadow: none;\n",
              "  }\n",
              "\n",
              "  .colab-df-spinner {\n",
              "    border: 2px solid var(--fill-color);\n",
              "    border-color: transparent;\n",
              "    border-bottom-color: var(--fill-color);\n",
              "    animation:\n",
              "      spin 1s steps(1) infinite;\n",
              "  }\n",
              "\n",
              "  @keyframes spin {\n",
              "    0% {\n",
              "      border-color: transparent;\n",
              "      border-bottom-color: var(--fill-color);\n",
              "      border-left-color: var(--fill-color);\n",
              "    }\n",
              "    20% {\n",
              "      border-color: transparent;\n",
              "      border-left-color: var(--fill-color);\n",
              "      border-top-color: var(--fill-color);\n",
              "    }\n",
              "    30% {\n",
              "      border-color: transparent;\n",
              "      border-left-color: var(--fill-color);\n",
              "      border-top-color: var(--fill-color);\n",
              "      border-right-color: var(--fill-color);\n",
              "    }\n",
              "    40% {\n",
              "      border-color: transparent;\n",
              "      border-right-color: var(--fill-color);\n",
              "      border-top-color: var(--fill-color);\n",
              "    }\n",
              "    60% {\n",
              "      border-color: transparent;\n",
              "      border-right-color: var(--fill-color);\n",
              "    }\n",
              "    80% {\n",
              "      border-color: transparent;\n",
              "      border-right-color: var(--fill-color);\n",
              "      border-bottom-color: var(--fill-color);\n",
              "    }\n",
              "    90% {\n",
              "      border-color: transparent;\n",
              "      border-bottom-color: var(--fill-color);\n",
              "    }\n",
              "  }\n",
              "</style>\n",
              "\n",
              "      <script>\n",
              "        async function quickchart(key) {\n",
              "          const quickchartButtonEl =\n",
              "            document.querySelector('#' + key + ' button');\n",
              "          quickchartButtonEl.disabled = true;  // To prevent multiple clicks.\n",
              "          quickchartButtonEl.classList.add('colab-df-spinner');\n",
              "          try {\n",
              "            const charts = await google.colab.kernel.invokeFunction(\n",
              "                'suggestCharts', [key], {});\n",
              "          } catch (error) {\n",
              "            console.error('Error during call to suggestCharts:', error);\n",
              "          }\n",
              "          quickchartButtonEl.classList.remove('colab-df-spinner');\n",
              "          quickchartButtonEl.classList.add('colab-df-quickchart-complete');\n",
              "        }\n",
              "        (() => {\n",
              "          let quickchartButtonEl =\n",
              "            document.querySelector('#df-90b82761-df4c-4a8f-a430-96bf2e697bc2 button');\n",
              "          quickchartButtonEl.style.display =\n",
              "            google.colab.kernel.accessAllowed ? 'block' : 'none';\n",
              "        })();\n",
              "      </script>\n",
              "    </div>\n",
              "\n",
              "  <div id=\"id_d36b0420-a365-45b2-88cc-30af786f73ec\">\n",
              "    <style>\n",
              "      .colab-df-generate {\n",
              "        background-color: #E8F0FE;\n",
              "        border: none;\n",
              "        border-radius: 50%;\n",
              "        cursor: pointer;\n",
              "        display: none;\n",
              "        fill: #1967D2;\n",
              "        height: 32px;\n",
              "        padding: 0 0 0 0;\n",
              "        width: 32px;\n",
              "      }\n",
              "\n",
              "      .colab-df-generate:hover {\n",
              "        background-color: #E2EBFA;\n",
              "        box-shadow: 0px 1px 2px rgba(60, 64, 67, 0.3), 0px 1px 3px 1px rgba(60, 64, 67, 0.15);\n",
              "        fill: #174EA6;\n",
              "      }\n",
              "\n",
              "      [theme=dark] .colab-df-generate {\n",
              "        background-color: #3B4455;\n",
              "        fill: #D2E3FC;\n",
              "      }\n",
              "\n",
              "      [theme=dark] .colab-df-generate:hover {\n",
              "        background-color: #434B5C;\n",
              "        box-shadow: 0px 1px 3px 1px rgba(0, 0, 0, 0.15);\n",
              "        filter: drop-shadow(0px 1px 2px rgba(0, 0, 0, 0.3));\n",
              "        fill: #FFFFFF;\n",
              "      }\n",
              "    </style>\n",
              "    <button class=\"colab-df-generate\" onclick=\"generateWithVariable('data')\"\n",
              "            title=\"Generate code using this dataframe.\"\n",
              "            style=\"display:none;\">\n",
              "\n",
              "  <svg xmlns=\"http://www.w3.org/2000/svg\" height=\"24px\"viewBox=\"0 0 24 24\"\n",
              "       width=\"24px\">\n",
              "    <path d=\"M7,19H8.4L18.45,9,17,7.55,7,17.6ZM5,21V16.75L18.45,3.32a2,2,0,0,1,2.83,0l1.4,1.43a1.91,1.91,0,0,1,.58,1.4,1.91,1.91,0,0,1-.58,1.4L9.25,21ZM18.45,9,17,7.55Zm-12,3A5.31,5.31,0,0,0,4.9,8.1,5.31,5.31,0,0,0,1,6.5,5.31,5.31,0,0,0,4.9,4.9,5.31,5.31,0,0,0,6.5,1,5.31,5.31,0,0,0,8.1,4.9,5.31,5.31,0,0,0,12,6.5,5.46,5.46,0,0,0,6.5,12Z\"/>\n",
              "  </svg>\n",
              "    </button>\n",
              "    <script>\n",
              "      (() => {\n",
              "      const buttonEl =\n",
              "        document.querySelector('#id_d36b0420-a365-45b2-88cc-30af786f73ec button.colab-df-generate');\n",
              "      buttonEl.style.display =\n",
              "        google.colab.kernel.accessAllowed ? 'block' : 'none';\n",
              "\n",
              "      buttonEl.onclick = () => {\n",
              "        google.colab.notebook.generateWithVariable('data');\n",
              "      }\n",
              "      })();\n",
              "    </script>\n",
              "  </div>\n",
              "\n",
              "    </div>\n",
              "  </div>\n"
            ],
            "application/vnd.google.colaboratory.intrinsic+json": {
              "type": "dataframe",
              "variable_name": "data",
              "summary": "{\n  \"name\": \"data\",\n  \"rows\": 3265,\n  \"fields\": [\n    {\n      \"column\": \"Unnamed: 0\",\n      \"properties\": {\n        \"dtype\": \"number\",\n        \"std\": 942,\n        \"min\": 0,\n        \"max\": 3264,\n        \"num_unique_values\": 3265,\n        \"samples\": [\n          1641,\n          134,\n          411\n        ],\n        \"semantic_type\": \"\",\n        \"description\": \"\"\n      }\n    },\n    {\n      \"column\": \"Date\",\n      \"properties\": {\n        \"dtype\": \"object\",\n        \"num_unique_values\": 3265,\n        \"samples\": [\n          \"1885-10-31\",\n          \"1760-03-31\",\n          \"1783-04-30\"\n        ],\n        \"semantic_type\": \"\",\n        \"description\": \"\"\n      }\n    },\n    {\n      \"column\": \"Monthly Mean Total Sunspot Number\",\n      \"properties\": {\n        \"dtype\": \"number\",\n        \"std\": 67.88927651806063,\n        \"min\": 0.0,\n        \"max\": 398.2,\n        \"num_unique_values\": 1599,\n        \"samples\": [\n          21.6,\n          151.7,\n          235.8\n        ],\n        \"semantic_type\": \"\",\n        \"description\": \"\"\n      }\n    }\n  ]\n}"
            }
          },
          "metadata": {},
          "execution_count": 14
        }
      ],
      "source": [
        "data=pd.read_csv(\"Sunspots.csv\")\n",
        "data"
      ]
    },
    {
      "cell_type": "code",
      "execution_count": 15,
      "metadata": {
        "colab": {
          "base_uri": "https://localhost:8080/"
        },
        "id": "omg1ptn40_qs",
        "outputId": "062f75a8-7e68-468b-b476-1e49547ddac2"
      },
      "outputs": [
        {
          "output_type": "execute_result",
          "data": {
            "text/plain": [
              "3265"
            ]
          },
          "metadata": {},
          "execution_count": 15
        }
      ],
      "source": [
        "len(data)"
      ]
    },
    {
      "cell_type": "markdown",
      "source": [
        "**Preprocessing**"
      ],
      "metadata": {
        "id": "y-y-TC9KwLSv"
      }
    },
    {
      "cell_type": "code",
      "execution_count": 16,
      "metadata": {
        "colab": {
          "base_uri": "https://localhost:8080/"
        },
        "id": "bGpcKLy7EFkc",
        "outputId": "afe61adb-17d9-4383-b452-98a3f7882885"
      },
      "outputs": [
        {
          "output_type": "execute_result",
          "data": {
            "text/plain": [
              "RangeIndex(start=0, stop=3265, step=1)"
            ]
          },
          "metadata": {},
          "execution_count": 16
        }
      ],
      "source": [
        "series = np.array(data[\"Monthly Mean Total Sunspot Number\"])\n",
        "time =data.index\n",
        "data.index"
      ]
    },
    {
      "cell_type": "code",
      "execution_count": 17,
      "metadata": {
        "id": "1DK7_uqDEFoW"
      },
      "outputs": [],
      "source": [
        "data['Date']= pd.to_datetime(data['Date'])"
      ]
    },
    {
      "cell_type": "code",
      "execution_count": 18,
      "metadata": {
        "id": "HzPXh0UdFGb9"
      },
      "outputs": [],
      "source": [
        "data.set_index(['Date'], inplace=True)"
      ]
    },
    {
      "cell_type": "markdown",
      "metadata": {
        "id": "It3Qxa4zUfIZ"
      },
      "source": [
        "**Split data**"
      ]
    },
    {
      "cell_type": "code",
      "execution_count": 19,
      "metadata": {
        "id": "NRbPz8xToX1K"
      },
      "outputs": [],
      "source": [
        "split_ratio = 0.8  # 80% for training\n",
        "split_time = int(len(series) * split_ratio)\n",
        "\n",
        "time_train = time[:split_time]\n",
        "X_train = series[:split_time]\n",
        "time_test = time[split_time:]\n",
        "X_test = series[split_time:]"
      ]
    },
    {
      "cell_type": "markdown",
      "source": [
        "**Figure**"
      ],
      "metadata": {
        "id": "_E6O3CPAwcWB"
      }
    },
    {
      "cell_type": "code",
      "execution_count": 20,
      "metadata": {
        "colab": {
          "base_uri": "https://localhost:8080/",
          "height": 503
        },
        "id": "ZNu4GP0i0nQw",
        "outputId": "ea056ac4-743b-4fac-fade-e3997134895d"
      },
      "outputs": [
        {
          "output_type": "display_data",
          "data": {
            "text/plain": [
              "<Figure size 650x550 with 1 Axes>"
            ],
            "image/png": "[encoded data removed]"
          },
          "metadata": {}
        }
      ],
      "source": [
        "plt.figure(figsize=(6.5,5.5))\n",
        "plt.plot(np.arange(0,2600), X_train[0:2600], label=\"Sunspots time serie\")\n",
        "\n",
        "plt.xlabel(\"Time\")\n",
        "plt.ylabel(\"Sunspots\")\n",
        "plt.legend()\n",
        "plt.savefig('/content/Sunspots.png', dpi=300, bbox_inches='tight')\n",
        "plt.show()"
      ]
    },
    {
      "cell_type": "markdown",
      "source": [
        "# Double Vector Quantization based on PrSOM\n",
        "\n",
        "\n",
        "\n"
      ],
      "metadata": {
        "id": "uq97UPGCwvvJ"
      }
    },
    {
      "cell_type": "markdown",
      "source": [
        "# **Method description**"
      ],
      "metadata": {
        "id": "peNTFmZew06l"
      }
    },
    {
      "cell_type": "markdown",
      "source": [
        "The Double Vector Quantization (DVQ) model enhanced by Probabilistic Self-Organizing Maps (PrSOM) is a two-phase approach dedicated to time series forecasting. This method begins by transforming the original series into two spaces: the regressor space, which contains vectors of consecutive past observations, and the deformation space, which captures the variation between successive regressors. Both spaces are clustered separately using the PrSOM algorithm, which not only identifies representative prototypes but also provides probabilistic associations, offering a more nuanced understanding of the underlying data structure. After clustering, a transition matrix is constructed to represent the likelihood of moving from a regressor cluster to a deformation cluster, effectively capturing the temporal evolution dynamics of the series. For forecasting, the current regressor is mapped to its most probable cluster, and the model uses the learned transition probabilities to determine the most likely deformation cluster. The predicted future regressor is then generated by applying the corresponding deformation prototype, from which the next value in the time series is extracted. This integration of probabilistic clustering and transition modeling allows DVQ-PrSOM to effectively capture both the structure and the dynamics of complex time series, providing reliable predictions even in non-linear and non-stationary environments such as sunspot activity."
      ],
      "metadata": {
        "id": "EUEouz9vPjPP"
      }
    },
    {
      "cell_type": "markdown",
      "source": [
        "The proposed Double Vector Quantization (DVQ) based on PrSOM code is structured as follows:\n",
        "\n",
        "### 1. Input and Preprocessing\n",
        "\n",
        "Given a univariate time series:\n",
        "\n",
        "$$\n",
        "x = (x_1, x_2, \\ldots, x_n)\n",
        "$$\n",
        "\n",
        "- Build regressors $ \\mathbf{x}_t \\in \\mathbb{R}^p$ using a sliding window of size \\( p \\).\n",
        "- Compute deformation vectors:\n",
        "\n",
        "$$\n",
        "\\mathbf{z}_t = \\mathbf{x}_{t+1} - \\mathbf{x}_t\n",
        "$$\n",
        "\n",
        "### 2. Learning Phase (Training)\n",
        "\n",
        "- Apply **Probabilistic Self-Organizing Map (PrSOM)** to cluster:\n",
        "  - The regressor space $\\{\\mathbf{x}_t\\}$ into $n_1 $ clusters.\n",
        "  - The deformation space  $\\{ \\mathbf{z}_t \\}$  into $ n_2 $ clusters.\n",
        "\n",
        "- Construct the **transition matrix**:\n",
        "\n",
        "$$\n",
        "T(i, j) = \\mathbb{P}(\\text{Deformation cluster } j \\mid \\text{Regressor cluster } i)\n",
        "$$\n",
        "\n",
        "using the observed transitions between clusters.\n",
        "\n",
        "### 3. Prediction Phase\n",
        "\n",
        "To forecast the next value $\\hat{x}_{n+1}$, perform:\n",
        "\n",
        "- Identify the most probable regressor cluster:\n",
        "\n",
        "$$\n",
        "k = \\arg\\max_{i}~p_i(\\mathbf{x}_n)\n",
        "$$\n",
        "\n",
        "- Select the most likely deformation cluster:\n",
        "\n",
        "$$\n",
        "l = \\arg\\max_{j}~T(k, j)\n",
        "$$\n",
        "\n",
        "- Compute the next regressor:\n",
        "\n",
        "$$\n",
        "\\hat{\\mathbf{x}}_{n+1} = \\mathbf{x}_n + \\bar{\\mathbf{z}}_l\n",
        "$$\n",
        "\n",
        "- Extract the prediction value:\n",
        "\n",
        "$$\n",
        "\\hat{x}_{n+1} = \\hat{\\mathbf{x}}_{n+1}^{(p)}\n",
        "$$\n",
        "\n",
        "where $ \\hat{\\mathbf{x}}_{n+1}^{(p)} $ is the last element of the regressor vector.\n",
        "\n",
        "$$\n",
        "\\text{RMSE} = \\sqrt{ \\frac{1}{N} \\sum_{i=1}^{N} \\left( \\hat{x}_i - x_i \\right)^2 }\n",
        "$$"
      ],
      "metadata": {
        "id": "-TCbGYat8in0"
      }
    },
    {
      "cell_type": "markdown",
      "metadata": {
        "id": "cHf3kqhLUzqu"
      },
      "source": [
        "# **PrSOM class**"
      ]
    },
    {
      "cell_type": "code",
      "execution_count": 21,
      "metadata": {
        "id": "ePIEsMgD6_rI"
      },
      "outputs": [],
      "source": [
        "class PRROM():\n",
        "    def __init__(self,p):\n",
        "         self.Xsh =p\n",
        "         self.Wsh = 0\n",
        "\n",
        "    def Temperature(t):\n",
        "        Tmin = 1\n",
        "        tmax = 1000\n",
        "        return Tmin * (Tmin / tmax) ** (t / (tmax - 1))\n",
        "\n",
        "    @staticmethod\n",
        "    def Kernel_T(W, T, c2):\n",
        "        fitness = [0] * PRROM.Wsh\n",
        "        for c1 in range(PRROM.Wsh):\n",
        "            fitness[c1] = np.exp(-0.5 * np.linalg.norm(W[c2] - W[c1]) / T)\n",
        "        return fitness\n",
        "\n",
        "    @staticmethod\n",
        "    def voisinage(W, T):\n",
        "        V = np.zeros((PRROM.Wsh, PRROM.Wsh))\n",
        "        for c2 in range(PRROM.Wsh):\n",
        "            fitness = [0] * PRROM.Wsh\n",
        "            for c1 in range(PRROM.Wsh):\n",
        "                fitness[c1] = (np.exp(-0.5 * np.linalg.norm(W[c2] - W[c1]) / T)) / sum(PRROM.Kernel_T(W, T, c2))\n",
        "            V[c2] = fitness\n",
        "        return V\n",
        "\n",
        "    @staticmethod\n",
        "    def Winner(W, X, T, Sigma):\n",
        "        PRROM.Xsh = X.shape[0]\n",
        "        G = [0] * PRROM.Xsh\n",
        "        VG = [0] * PRROM.Xsh\n",
        "        PRROM.Wsh = W.shape[0]\n",
        "        Voising = np.zeros((PRROM.Wsh, PRROM.Wsh))\n",
        "        Voising = PRROM.voisinage(W, T)\n",
        "        for i in range(PRROM.Xsh):\n",
        "            fitness = [0] * PRROM.Wsh\n",
        "            for c2 in range(PRROM.Wsh):\n",
        "                for c1 in range(PRROM.Wsh):\n",
        "                    Sigma1 = Sigma[c1] * np.eye(W.shape[1])\n",
        "                    fitness[c2] += multivariate_normal.pdf(X[i], W[c1], Sigma1) * Voising[c2, c1]\n",
        "            G[i] = np.argmax(fitness)\n",
        "            VG[i] = np.max(fitness)\n",
        "        return G, VG\n",
        "\n",
        "    @staticmethod\n",
        "    def MiseJourW(W, X, T, Sigma):\n",
        "        PRROM.Wsh = W.shape[0]\n",
        "        PRROM.Xsh = X.shape[0]\n",
        "        Xi = [0] * PRROM.Xsh\n",
        "        pXi = [0] * PRROM.Xsh\n",
        "        Xi, pXi = PRROM.Winner(W, X, T, Sigma)\n",
        "        Voising = np.zeros((PRROM.Wsh, PRROM.Wsh))\n",
        "        Voising = PRROM.voisinage(W, T)\n",
        "        Wm = np.zeros((PRROM.Wsh, W.shape[1]))\n",
        "        for c1 in range(PRROM.Wsh):\n",
        "            z = np.zeros(W.shape[1])\n",
        "            const = 0\n",
        "            Sigma1 = Sigma[c1] * np.eye(W.shape[1])\n",
        "            for i in range(PRROM.Xsh):\n",
        "                z += (X[i] * multivariate_normal.pdf(X[i], W[c1], Sigma1) * Voising[Xi[i], c1]) / pXi[i]\n",
        "                const += (multivariate_normal.pdf(X[i], W[c1], Sigma1) * Voising[Xi[i], c1]) / pXi[i]\n",
        "            if const!=0:\n",
        "              Wm[c1] = z / const\n",
        "            else:\n",
        "              const=0.00001\n",
        "        return Wm\n",
        "\n",
        "    @staticmethod\n",
        "    def MiseJourSigma(W,X,T,Sigma):\n",
        "      Xi=[0]*PRROM.Xsh\n",
        "      pXi=[0]*PRROM.Xsh\n",
        "      Xi,pXi=PRROM.Winner(W,X,T,Sigma)\n",
        "      Voising=np.zeros((PRROM.Wsh,PRROM.Wsh))\n",
        "      Voising=PRROM.voisinage(W,T)\n",
        "      SigmaM=np.zeros(PRROM.Wsh)\n",
        "      for c1 in range(PRROM.Wsh):\n",
        "        d=0\n",
        "        const=0\n",
        "        Sigma1=Sigma[c1]*np.eye(W.shape[1])\n",
        "        for i in range(PRROM.Xsh):\n",
        "            multivariat=multivariate_normal.pdf(X[i],W[c1],Sigma1)\n",
        "            d+=((np.linalg.norm(X[i]-W[c1])**2)*multivariat*Voising[Xi[i],c1])/pXi[i]\n",
        "            const+=W.shape[1]*(multivariat*Voising[Xi[i],c1])/pXi[i]\n",
        "        SigmaM[c1]=d/const\n",
        "      return SigmaM\n",
        "\n",
        "    @staticmethod\n",
        "    def Erreur(W, X, T, Sigma):\n",
        "        E = 0\n",
        "        Xi = PRROM.Winner(W, X, T, Sigma)[0]\n",
        "        Voising = np.zeros((PRROM.Wsh,PRROM.Wsh))\n",
        "        Voising = PRROM.voisinage(W, T)\n",
        "        for i in range(PRROM.Xsh):\n",
        "            h = 0\n",
        "            for c1 in range(PRROM.Wsh):\n",
        "                Sigma1 = Sigma[c1] * np.eye(W.shape[1])\n",
        "                h += multivariate_normal.pdf(X[i], W[c1], Sigma1) * Voising[Xi[i], c1]\n",
        "            E -= np.log(h)\n",
        "        return E\n",
        "\n",
        "    @staticmethod\n",
        "    def PRSOM(X,p,n1):\n",
        "        Sigmaa = [random.randint(1, 10000000000) for _ in range(n1)]\n",
        "        Xbar = np.random.rand(n1,p)\n",
        "        t = 0\n",
        "        while t <= 40:\n",
        "            T = PRROM.Temperature(t)\n",
        "            WM = PRROM.MiseJourW(Xbar, X, T, Sigmaa)\n",
        "            SigmaM = PRROM.MiseJourSigma(Xbar, X, T, Sigmaa)\n",
        "            Xbar = WM\n",
        "            Sigmaa = SigmaM\n",
        "            t = t + 1\n",
        "        return PRROM.Winner(Xbar, X, T, Sigmaa)[0],Xbar,Sigmaa"
      ]
    },
    {
      "cell_type": "markdown",
      "source": [
        "# **The class associated to Double Vector Quantization based on PrSOM**"
      ],
      "metadata": {
        "id": "gr-H8JKH9KRx"
      }
    },
    {
      "cell_type": "code",
      "execution_count": 22,
      "metadata": {
        "id": "3JtsPO7zcNlS"
      },
      "outputs": [],
      "source": [
        "class DoubleVectorQuantizationPR(BaseEstimator, RegressorMixin):\n",
        "    def __init__(self,p,n,T,horizon):\n",
        "        self.PrSOM = PRROM(p)\n",
        "        self.p=p\n",
        "        self.C_i=None\n",
        "        self.C_j=None\n",
        "        self.W=0\n",
        "        self.Wbar=0\n",
        "        self.Sigmaa=0\n",
        "        self.Sigmabar=0\n",
        "        self.n1=n\n",
        "        self.n2=n\n",
        "        self.T = T\n",
        "        self.horizon=horizon\n",
        "        self.transition_matrix=np.zeros((self.n1,self.n2))\n",
        "\n",
        "    def create_regressor(self,data):\n",
        "      L=len(data)-self.p+1\n",
        "      R=np.zeros((L,self.p))\n",
        "      for j in range(L):\n",
        "        k=j\n",
        "        for i in range(self.p):\n",
        "            R[j,i]=data[k]\n",
        "            k=k+1\n",
        "      return R\n",
        "    def fit(self, data):\n",
        "        regressors=np.zeros((len(data)-self.p+1,self.p))\n",
        "        regressors=self.create_regressor(data)\n",
        "        deformation=self.create_deformation(regressors,data)\n",
        "        regressors=regressors[:-1].copy()\n",
        "        # Create Sigmaa as a list of identity matrices\n",
        "        self.C_i,self.W,self.Sigmaa = self.PrSOM.PRSOM(regressors,self.p,self.n1)  # Pass Sigmaa to PRSOM\n",
        "        self.C_j,self.Wbar,self.Sigmabar= self.PrSOM.PRSOM(deformation,self.p,self.n1)  # Pass Sigmaa to PRSOM\n",
        "        self.transition_matrix = self.calculate_transition_matrix(regressors, deformation)\n",
        "\n",
        "\n",
        "    def create_deformation(self, regressors,data):\n",
        "      d=len(data)-self.p\n",
        "      D=np.zeros((d,self.p))\n",
        "      for k in range(d):\n",
        "         for l in range(self.p):\n",
        "                D[k,l]=regressors[k+1,l]-regressors[k,l]\n",
        "\n",
        "      return D\n",
        "\n",
        "    def calculate_transition_matrix(self, regressors, deformation):\n",
        "        transition_matrix = np.zeros((self.n1,self.n2))\n",
        "        for i in range(self.n1):\n",
        "            for j in range(self.n2):\n",
        "              C=0\n",
        "              S=0\n",
        "              for x in range(len(deformation)):\n",
        "                 if self.C_i[x]==i and self.C_j[x]==j:\n",
        "                  S=S+1\n",
        "                 if self.C_i[x]==i:\n",
        "                  C=C+1\n",
        "              if C!=0:\n",
        "                transition_matrix[i, j] =S/C\n",
        "              else:\n",
        "                transition_matrix[i, j] =0\n",
        "        return transition_matrix\n",
        "\n",
        "    def predict(self,X_train,X_test):\n",
        "        predictions = []\n",
        "        R=self.create_regressor(X_train)\n",
        "        xt= R[-1]\n",
        "        pro= self.transition_matrix\n",
        "        for t in range(self.horizon):\n",
        "          if t==0:\n",
        "             xt= xt.reshape(1, -1)\n",
        "          k = self.PrSOM.Winner(self.W, xt, self.T, self.Sigmaa)[0]\n",
        "          pr = pro[k[0]]\n",
        "          l = np.argmax(pr)\n",
        "          z_l = self.Wbar[l, :]\n",
        "          x_hat = xt + z_l  # Add z_l to vector xt\n",
        "          predictions.append(x_hat[0, -1] ) # Extract the last known vakues from x_hat\n",
        "         # Mise à jour de of xt\n",
        "          xt = np.append(xt[0, 1:], X_test[t]).reshape(1, -1)  # 2D\n",
        "        return predictions\n",
        "\n",
        "    def score(self,X_train,X_test):\n",
        "        #Training\n",
        "        self.fit(X_train)\n",
        "        # Prediction\n",
        "        predictions = self.predict(X_train,X_test)\n",
        "        # Error\n",
        "        rmse = np.sqrt(mean_squared_error(X_test, predictions))\n",
        "        return predictions,rmse"
      ]
    },
    {
      "cell_type": "code",
      "execution_count": 23,
      "metadata": {
        "id": "77F7ntyY75k-"
      },
      "outputs": [],
      "source": [
        "p=5\n",
        "n=4\n",
        "T=0.7\n",
        "horizon=len(X_test)\n",
        "#apply the DVQ model\n",
        "DVQ=DoubleVectorQuantizationPR(p,n,T,horizon)\n",
        "y_prsom,rms=DVQ.score(X_train,X_test)"
      ]
    },
    {
      "cell_type": "markdown",
      "source": [
        "# **Calcul Errors Metrics for differents models**"
      ],
      "metadata": {
        "id": "FZXmmBIMzamF"
      }
    },
    {
      "cell_type": "code",
      "execution_count": 24,
      "metadata": {
        "colab": {
          "base_uri": "https://localhost:8080/"
        },
        "id": "EzQGDu2N4loI",
        "outputId": "30f5b899-8fdd-4b7f-f014-3ff8c32fda4b"
      },
      "outputs": [
        {
          "output_type": "stream",
          "name": "stdout",
          "text": [
            "differents errors using double Vector Quantization based on PrSOM\n",
            "mean squared error (MSE):  4.503233240930148\n",
            "mean absolute error (MAE):   2.8997031580627013\n",
            "R² :  0.9955406544799608\n"
          ]
        }
      ],
      "source": [
        "y_predict_PR=y_prsom[1:]\n",
        "Xtest=X_test[:-1]\n",
        "rmse_PR = np.sqrt(mean_squared_error(y_predict_PR, Xtest))\n",
        "mae_PR = mean_absolute_error(y_predict_PR, Xtest)\n",
        "r2_PR = r2_score(y_predict_PR, Xtest)\n",
        "print(\"differents errors using double Vector Quantization based on PrSOM\")\n",
        "print(\"mean squared error (MSE): \",rmse_PR)\n",
        "print(\"mean absolute error (MAE):  \",mae_PR)\n",
        "print(\"R² : \",r2_PR)"
      ]
    },
    {
      "cell_type": "markdown",
      "source": [
        "# **Visualization results for DVQ based On PrSOM**"
      ],
      "metadata": {
        "id": "tZfKRU4Lzlt4"
      }
    },
    {
      "cell_type": "code",
      "execution_count": 25,
      "metadata": {
        "colab": {
          "base_uri": "https://localhost:8080/",
          "height": 521
        },
        "id": "puLoPd0_lFKX",
        "outputId": "3fc1fdf7-05b1-4bd4-8ef0-6f04eb1bc199"
      },
      "outputs": [
        {
          "output_type": "execute_result",
          "data": {
            "text/plain": [
              "<matplotlib.legend.Legend at 0x7e8750828d50>"
            ]
          },
          "metadata": {},
          "execution_count": 25
        },
        {
          "output_type": "display_data",
          "data": {
            "text/plain": [
              "<Figure size 840x550 with 1 Axes>"
            ],
            "image/png": "[encoded data removed]"
          },
          "metadata": {}
        }
      ],
      "source": [
        "plt.figure(figsize=(8.4,5.5))\n",
        "start=630\n",
        "plt.plot(np.arange(1,len(X_test[start:])),y_predict_PR[start:],label=\"Predicting serie \",color='darkorange', marker='^')\n",
        "plt.plot(np.arange(1,len(X_test[start:])),Xtest[start:],label=\"Original time serie \",color='steelblue', marker='^')\n",
        "plt.xlabel(\"Time\")\n",
        "plt.ylabel(\"Sunspots\")\n",
        "plt.legend()"
      ]
    },
    {
      "cell_type": "markdown",
      "source": [
        "Our method is compared against a baseline Simple RNN model to highlight the benefits of using structured vector quantization with probabilistic transitions."
      ],
      "metadata": {
        "id": "h1aroYV97iWz"
      }
    },
    {
      "cell_type": "markdown",
      "source": [
        "# Reccurent Neural Network"
      ],
      "metadata": {
        "id": "SkT26t9rI8qG"
      }
    },
    {
      "cell_type": "code",
      "source": [
        "from tensorflow.keras.models import Sequential\n",
        "from tensorflow.keras.layers import SimpleRNN, Dense\n",
        "\n",
        "# Load the dataset from CSV\n",
        "df = pd.read_csv(\"Sunspots.csv\")\n",
        "\n",
        "# Check available columns\n",
        "print(df.columns)\n",
        "\n",
        "# Rename column if necessary\n",
        "if 'Monthly Mean Total Sunspot Number' in df.columns:\n",
        "    df.rename(columns={'Monthly Mean Total Sunspot Number': 'Sunspots'}, inplace=True)\n",
        "\n",
        "# Convert \"Date\" column to datetime and set as index\n",
        "df['Date'] = pd.to_datetime(df['Date'])\n",
        "df.set_index('Date', inplace=True)\n",
        "\n",
        "# Normalize the sunspot data\n",
        "scaler = MinMaxScaler()\n",
        "data_scaled = scaler.fit_transform(df['Sunspots'].values.reshape(-1, 1))\n",
        "\n",
        "# Create sequences for RNN input\n",
        "def create_sequences(data, window_size):\n",
        "    X, y = [], []\n",
        "    for i in range(len(data) - window_size):\n",
        "        X.append(data[i:i + window_size])\n",
        "        y.append(data[i + window_size])\n",
        "    return np.array(X), np.array(y)\n",
        "\n",
        "window_size = 12  # 12 months = 1 year\n",
        "X, y = create_sequences(data_scaled, window_size)\n",
        "X = X.reshape(X.shape[0], X.shape[1], 1)  # 3D shape for RNN\n",
        "\n",
        "# Split into training and testing sets\n",
        "split_ratio = 0.8\n",
        "split_time = int(len(X) * split_ratio)\n",
        "\n",
        "X_train, X_test = X[:split_time], X[split_time:]\n",
        "y_train, y_test = y[:split_time], y[split_time:]\n",
        "\n",
        "# Save original target values for denormalized evaluation\n",
        "y_test_original = df['Sunspots'].values[-len(y_test):]\n",
        "\n",
        "# Build the Simple RNN model\n",
        "rnn_model = Sequential()\n",
        "rnn_model.add(SimpleRNN(50, input_shape=(X_train.shape[1], X_train.shape[2])))\n",
        "rnn_model.add(Dense(1))\n",
        "rnn_model.compile(optimizer='adam', loss='mean_squared_error')\n",
        "\n",
        "# Train the RNN model\n",
        "rnn_model.fit(X_train, y_train, epochs=50, batch_size=32, verbose=1)\n",
        "\n",
        "# Predict on test set\n",
        "rnn_predictions = rnn_model.predict(X_test)\n",
        "# Inverse scaling\n",
        "rnn_predictions_inv = scaler.inverse_transform(rnn_predictions)"
      ],
      "metadata": {
        "id": "mAjSBj1Baxdz",
        "colab": {
          "base_uri": "https://localhost:8080/"
        },
        "outputId": "511ecf12-6fc8-4049-9c1f-ab0e1068c84f"
      },
      "execution_count": 26,
      "outputs": [
        {
          "output_type": "stream",
          "name": "stdout",
          "text": [
            "Index(['Unnamed: 0', 'Date', 'Monthly Mean Total Sunspot Number'], dtype='object')\n",
            "Epoch 1/50\n"
          ]
        },
        {
          "output_type": "stream",
          "name": "stderr",
          "text": [
            "/usr/local/lib/python3.11/dist-packages/keras/src/layers/rnn/rnn.py:200: UserWarning: Do not pass an `input_shape`/`input_dim` argument to a layer. When using Sequential models, prefer using an `Input(shape)` object as the first layer in the model instead.\n",
            "  super().__init__(**kwargs)\n"
          ]
        },
        {
          "output_type": "stream",
          "name": "stdout",
          "text": [
            "\u001b[1m82/82\u001b[0m \u001b[32m━━━━━━━━━━━━━━━━━━━━\u001b[0m\u001b[37m\u001b[0m \u001b[1m2s\u001b[0m 4ms/step - loss: 0.0154\n",
            "Epoch 2/50\n",
            "\u001b[1m82/82\u001b[0m \u001b[32m━━━━━━━━━━━━━━━━━━━━\u001b[0m\u001b[37m\u001b[0m \u001b[1m0s\u001b[0m 4ms/step - loss: 0.0061\n",
            "Epoch 3/50\n",
            "\u001b[1m82/82\u001b[0m \u001b[32m━━━━━━━━━━━━━━━━━━━━\u001b[0m\u001b[37m\u001b[0m \u001b[1m1s\u001b[0m 4ms/step - loss: 0.0052\n",
            "Epoch 4/50\n",
            "\u001b[1m82/82\u001b[0m \u001b[32m━━━━━━━━━━━━━━━━━━━━\u001b[0m\u001b[37m\u001b[0m \u001b[1m0s\u001b[0m 4ms/step - loss: 0.0048\n",
            "Epoch 5/50\n",
            "\u001b[1m82/82\u001b[0m \u001b[32m━━━━━━━━━━━━━━━━━━━━\u001b[0m\u001b[37m\u001b[0m \u001b[1m1s\u001b[0m 4ms/step - loss: 0.0045\n",
            "Epoch 6/50\n",
            "\u001b[1m82/82\u001b[0m \u001b[32m━━━━━━━━━━━━━━━━━━━━\u001b[0m\u001b[37m\u001b[0m \u001b[1m1s\u001b[0m 6ms/step - loss: 0.0044\n",
            "Epoch 7/50\n",
            "\u001b[1m82/82\u001b[0m \u001b[32m━━━━━━━━━━━━━━━━━━━━\u001b[0m\u001b[37m\u001b[0m \u001b[1m1s\u001b[0m 6ms/step - loss: 0.0042\n",
            "Epoch 8/50\n",
            "\u001b[1m82/82\u001b[0m \u001b[32m━━━━━━━━━━━━━━━━━━━━\u001b[0m\u001b[37m\u001b[0m \u001b[1m1s\u001b[0m 6ms/step - loss: 0.0042\n",
            "Epoch 9/50\n",
            "\u001b[1m82/82\u001b[0m \u001b[32m━━━━━━━━━━━━━━━━━━━━\u001b[0m\u001b[37m\u001b[0m \u001b[1m1s\u001b[0m 7ms/step - loss: 0.0044\n",
            "Epoch 10/50\n",
            "\u001b[1m82/82\u001b[0m \u001b[32m━━━━━━━━━━━━━━━━━━━━\u001b[0m\u001b[37m\u001b[0m \u001b[1m0s\u001b[0m 4ms/step - loss: 0.0044\n",
            "Epoch 11/50\n",
            "\u001b[1m82/82\u001b[0m \u001b[32m━━━━━━━━━━━━━━━━━━━━\u001b[0m\u001b[37m\u001b[0m \u001b[1m1s\u001b[0m 4ms/step - loss: 0.0042\n",
            "Epoch 12/50\n",
            "\u001b[1m82/82\u001b[0m \u001b[32m━━━━━━━━━━━━━━━━━━━━\u001b[0m\u001b[37m\u001b[0m \u001b[1m1s\u001b[0m 4ms/step - loss: 0.0040\n",
            "Epoch 13/50\n",
            "\u001b[1m82/82\u001b[0m \u001b[32m━━━━━━━━━━━━━━━━━━━━\u001b[0m\u001b[37m\u001b[0m \u001b[1m1s\u001b[0m 4ms/step - loss: 0.0043\n",
            "Epoch 14/50\n",
            "\u001b[1m82/82\u001b[0m \u001b[32m━━━━━━━━━━━━━━━━━━━━\u001b[0m\u001b[37m\u001b[0m \u001b[1m1s\u001b[0m 4ms/step - loss: 0.0043\n",
            "Epoch 15/50\n",
            "\u001b[1m82/82\u001b[0m \u001b[32m━━━━━━━━━━━━━━━━━━━━\u001b[0m\u001b[37m\u001b[0m \u001b[1m1s\u001b[0m 4ms/step - loss: 0.0039\n",
            "Epoch 16/50\n",
            "\u001b[1m82/82\u001b[0m \u001b[32m━━━━━━━━━━━━━━━━━━━━\u001b[0m\u001b[37m\u001b[0m \u001b[1m0s\u001b[0m 4ms/step - loss: 0.0040\n",
            "Epoch 17/50\n",
            "\u001b[1m82/82\u001b[0m \u001b[32m━━━━━━━━━━━━━━━━━━━━\u001b[0m\u001b[37m\u001b[0m \u001b[1m1s\u001b[0m 4ms/step - loss: 0.0041\n",
            "Epoch 18/50\n",
            "\u001b[1m82/82\u001b[0m \u001b[32m━━━━━━━━━━━━━━━━━━━━\u001b[0m\u001b[37m\u001b[0m \u001b[1m1s\u001b[0m 4ms/step - loss: 0.0043\n",
            "Epoch 19/50\n",
            "\u001b[1m82/82\u001b[0m \u001b[32m━━━━━━━━━━━━━━━━━━━━\u001b[0m\u001b[37m\u001b[0m \u001b[1m1s\u001b[0m 4ms/step - loss: 0.0041\n",
            "Epoch 20/50\n",
            "\u001b[1m82/82\u001b[0m \u001b[32m━━━━━━━━━━━━━━━━━━━━\u001b[0m\u001b[37m\u001b[0m \u001b[1m0s\u001b[0m 4ms/step - loss: 0.0040\n",
            "Epoch 21/50\n",
            "\u001b[1m82/82\u001b[0m \u001b[32m━━━━━━━━━━━━━━━━━━━━\u001b[0m\u001b[37m\u001b[0m \u001b[1m0s\u001b[0m 4ms/step - loss: 0.0045\n",
            "Epoch 22/50\n",
            "\u001b[1m82/82\u001b[0m \u001b[32m━━━━━━━━━━━━━━━━━━━━\u001b[0m\u001b[37m\u001b[0m \u001b[1m0s\u001b[0m 4ms/step - loss: 0.0045\n",
            "Epoch 23/50\n",
            "\u001b[1m82/82\u001b[0m \u001b[32m━━━━━━━━━━━━━━━━━━━━\u001b[0m\u001b[37m\u001b[0m \u001b[1m1s\u001b[0m 4ms/step - loss: 0.0044\n",
            "Epoch 24/50\n",
            "\u001b[1m82/82\u001b[0m \u001b[32m━━━━━━━━━━━━━━━━━━━━\u001b[0m\u001b[37m\u001b[0m \u001b[1m1s\u001b[0m 4ms/step - loss: 0.0045\n",
            "Epoch 25/50\n",
            "\u001b[1m82/82\u001b[0m \u001b[32m━━━━━━━━━━━━━━━━━━━━\u001b[0m\u001b[37m\u001b[0m \u001b[1m1s\u001b[0m 4ms/step - loss: 0.0041\n",
            "Epoch 26/50\n",
            "\u001b[1m82/82\u001b[0m \u001b[32m━━━━━━━━━━━━━━━━━━━━\u001b[0m\u001b[37m\u001b[0m \u001b[1m1s\u001b[0m 4ms/step - loss: 0.0042\n",
            "Epoch 27/50\n",
            "\u001b[1m82/82\u001b[0m \u001b[32m━━━━━━━━━━━━━━━━━━━━\u001b[0m\u001b[37m\u001b[0m \u001b[1m1s\u001b[0m 4ms/step - loss: 0.0043\n",
            "Epoch 28/50\n",
            "\u001b[1m82/82\u001b[0m \u001b[32m━━━━━━━━━━━━━━━━━━━━\u001b[0m\u001b[37m\u001b[0m \u001b[1m0s\u001b[0m 5ms/step - loss: 0.0041\n",
            "Epoch 29/50\n",
            "\u001b[1m82/82\u001b[0m \u001b[32m━━━━━━━━━━━━━━━━━━━━\u001b[0m\u001b[37m\u001b[0m \u001b[1m1s\u001b[0m 7ms/step - loss: 0.0042\n",
            "Epoch 30/50\n",
            "\u001b[1m82/82\u001b[0m \u001b[32m━━━━━━━━━━━━━━━━━━━━\u001b[0m\u001b[37m\u001b[0m \u001b[1m1s\u001b[0m 6ms/step - loss: 0.0039\n",
            "Epoch 31/50\n",
            "\u001b[1m82/82\u001b[0m \u001b[32m━━━━━━━━━━━━━━━━━━━━\u001b[0m\u001b[37m\u001b[0m \u001b[1m1s\u001b[0m 7ms/step - loss: 0.0038\n",
            "Epoch 32/50\n",
            "\u001b[1m82/82\u001b[0m \u001b[32m━━━━━━━━━━━━━━━━━━━━\u001b[0m\u001b[37m\u001b[0m \u001b[1m1s\u001b[0m 7ms/step - loss: 0.0040\n",
            "Epoch 33/50\n",
            "\u001b[1m82/82\u001b[0m \u001b[32m━━━━━━━━━━━━━━━━━━━━\u001b[0m\u001b[37m\u001b[0m \u001b[1m0s\u001b[0m 4ms/step - loss: 0.0040\n",
            "Epoch 34/50\n",
            "\u001b[1m82/82\u001b[0m \u001b[32m━━━━━━━━━━━━━━━━━━━━\u001b[0m\u001b[37m\u001b[0m \u001b[1m1s\u001b[0m 4ms/step - loss: 0.0044\n",
            "Epoch 35/50\n",
            "\u001b[1m82/82\u001b[0m \u001b[32m━━━━━━━━━━━━━━━━━━━━\u001b[0m\u001b[37m\u001b[0m \u001b[1m0s\u001b[0m 4ms/step - loss: 0.0038\n",
            "Epoch 36/50\n",
            "\u001b[1m82/82\u001b[0m \u001b[32m━━━━━━━━━━━━━━━━━━━━\u001b[0m\u001b[37m\u001b[0m \u001b[1m1s\u001b[0m 4ms/step - loss: 0.0043\n",
            "Epoch 37/50\n",
            "\u001b[1m82/82\u001b[0m \u001b[32m━━━━━━━━━━━━━━━━━━━━\u001b[0m\u001b[37m\u001b[0m \u001b[1m0s\u001b[0m 4ms/step - loss: 0.0041\n",
            "Epoch 38/50\n",
            "\u001b[1m82/82\u001b[0m \u001b[32m━━━━━━━━━━━━━━━━━━━━\u001b[0m\u001b[37m\u001b[0m \u001b[1m1s\u001b[0m 4ms/step - loss: 0.0045\n",
            "Epoch 39/50\n",
            "\u001b[1m82/82\u001b[0m \u001b[32m━━━━━━━━━━━━━━━━━━━━\u001b[0m\u001b[37m\u001b[0m \u001b[1m1s\u001b[0m 4ms/step - loss: 0.0042\n",
            "Epoch 40/50\n",
            "\u001b[1m82/82\u001b[0m \u001b[32m━━━━━━━━━━━━━━━━━━━━\u001b[0m\u001b[37m\u001b[0m \u001b[1m1s\u001b[0m 4ms/step - loss: 0.0040\n",
            "Epoch 41/50\n",
            "\u001b[1m82/82\u001b[0m \u001b[32m━━━━━━━━━━━━━━━━━━━━\u001b[0m\u001b[37m\u001b[0m \u001b[1m0s\u001b[0m 4ms/step - loss: 0.0042\n",
            "Epoch 42/50\n",
            "\u001b[1m82/82\u001b[0m \u001b[32m━━━━━━━━━━━━━━━━━━━━\u001b[0m\u001b[37m\u001b[0m \u001b[1m1s\u001b[0m 4ms/step - loss: 0.0040\n",
            "Epoch 43/50\n",
            "\u001b[1m82/82\u001b[0m \u001b[32m━━━━━━━━━━━━━━━━━━━━\u001b[0m\u001b[37m\u001b[0m \u001b[1m1s\u001b[0m 4ms/step - loss: 0.0038\n",
            "Epoch 44/50\n",
            "\u001b[1m82/82\u001b[0m \u001b[32m━━━━━━━━━━━━━━━━━━━━\u001b[0m\u001b[37m\u001b[0m \u001b[1m1s\u001b[0m 4ms/step - loss: 0.0038\n",
            "Epoch 45/50\n",
            "\u001b[1m82/82\u001b[0m \u001b[32m━━━━━━━━━━━━━━━━━━━━\u001b[0m\u001b[37m\u001b[0m \u001b[1m1s\u001b[0m 4ms/step - loss: 0.0042\n",
            "Epoch 46/50\n",
            "\u001b[1m82/82\u001b[0m \u001b[32m━━━━━━━━━━━━━━━━━━━━\u001b[0m\u001b[37m\u001b[0m \u001b[1m1s\u001b[0m 4ms/step - loss: 0.0041\n",
            "Epoch 47/50\n",
            "\u001b[1m82/82\u001b[0m \u001b[32m━━━━━━━━━━━━━━━━━━━━\u001b[0m\u001b[37m\u001b[0m \u001b[1m1s\u001b[0m 4ms/step - loss: 0.0042\n",
            "Epoch 48/50\n",
            "\u001b[1m82/82\u001b[0m \u001b[32m━━━━━━━━━━━━━━━━━━━━\u001b[0m\u001b[37m\u001b[0m \u001b[1m1s\u001b[0m 4ms/step - loss: 0.0040\n",
            "Epoch 49/50\n",
            "\u001b[1m82/82\u001b[0m \u001b[32m━━━━━━━━━━━━━━━━━━━━\u001b[0m\u001b[37m\u001b[0m \u001b[1m0s\u001b[0m 4ms/step - loss: 0.0042\n",
            "Epoch 50/50\n",
            "\u001b[1m82/82\u001b[0m \u001b[32m━━━━━━━━━━━━━━━━━━━━\u001b[0m\u001b[37m\u001b[0m \u001b[1m0s\u001b[0m 4ms/step - loss: 0.0045\n",
            "\u001b[1m21/21\u001b[0m \u001b[32m━━━━━━━━━━━━━━━━━━━━\u001b[0m\u001b[37m\u001b[0m \u001b[1m0s\u001b[0m 13ms/step\n"
          ]
        }
      ]
    },
    {
      "cell_type": "markdown",
      "source": [
        "#**Evaluation Metrics for RNN**"
      ],
      "metadata": {
        "id": "IvGxf1RJvfJn"
      }
    },
    {
      "cell_type": "code",
      "source": [
        "# Evaluation metrics\n",
        "rmse_rnn = np.sqrt(mean_squared_error(y_test_original, rnn_predictions_inv))\n",
        "mae_rnn = mean_absolute_error(y_test_original, rnn_predictions_inv)\n",
        "r2_rnn = r2_score(y_test_original, rnn_predictions_inv)\n",
        "\n",
        "print(f\"RNN - RMSE: {rmse_rnn:.4f}, MAE: {mae_rnn:.4f}, R²: {r2_rnn:.4f}\")\n",
        "print(\"Test set size:\", len(y_test_original))"
      ],
      "metadata": {
        "colab": {
          "base_uri": "https://localhost:8080/"
        },
        "id": "2YhVKgP_yx2z",
        "outputId": "0fb7acc7-b348-47f9-87a1-827f03caf56a"
      },
      "execution_count": 27,
      "outputs": [
        {
          "output_type": "stream",
          "name": "stdout",
          "text": [
            "RNN - RMSE: 23.5439, MAE: 16.8608, R²: 0.8848\n",
            "Test set size: 651\n"
          ]
        }
      ]
    },
    {
      "cell_type": "markdown",
      "source": [
        "# **Visualization Results for RNN**"
      ],
      "metadata": {
        "id": "4S-j4NuO-Bov"
      }
    },
    {
      "cell_type": "code",
      "source": [
        "# Visualization of predictions\n",
        "plt.figure(figsize=(12, 5))\n",
        "plt.plot(df.index[start-len(y_test):], y_test_original[start:], label=\"Actual\", color='blue')\n",
        "plt.plot(df.index[start-len(y_test):], rnn_predictions_inv[start:], label=\"RNN Predictions\", color='green', linestyle='dashed')\n",
        "plt.legend()\n",
        "plt.xlabel(\"Year\")\n",
        "plt.ylabel(\"Number of Sunspots\")\n",
        "plt.title(\"Sunspot Number Forecasting with RNN\")\n",
        "plt.show()"
      ],
      "metadata": {
        "id": "A3FafzH4dU-5",
        "colab": {
          "base_uri": "https://localhost:8080/",
          "height": 487
        },
        "outputId": "52668df7-1a0c-4eac-ae09-0c56c409086b"
      },
      "execution_count": 28,
      "outputs": [
        {
          "output_type": "display_data",
          "data": {
            "text/plain": [
              "<Figure size 1200x500 with 1 Axes>"
            ],
            "image/png": "[encoded data removed]"
          },
          "metadata": {}
        }
      ]
    }
  ],
  "metadata": {
    "colab": {
      "provenance": []
    },
    "kernelspec": {
      "display_name": "Python 3",
      "name": "python3"
    },
    "language_info": {
      "name": "python"
    }
  },
  "nbformat": 4,
  "nbformat_minor": 0
}